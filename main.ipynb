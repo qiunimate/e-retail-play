{
 "cells": [
  {
   "cell_type": "markdown",
   "metadata": {},
   "source": [
    "# load and roughly clean"
   ]
  },
  {
   "cell_type": "code",
   "execution_count": 29,
   "metadata": {},
   "outputs": [],
   "source": [
    "import pandas as pd\n",
    "from tqdm import tqdm\n",
    "import matplotlib.pyplot as plt\n",
    "import json\n",
    "\n",
    "csv_path = \"./online_retail_II.csv\"\n"
   ]
  },
  {
   "cell_type": "code",
   "execution_count": 2,
   "metadata": {},
   "outputs": [
    {
     "data": {
      "text/html": [
       "<div>\n",
       "<style scoped>\n",
       "    .dataframe tbody tr th:only-of-type {\n",
       "        vertical-align: middle;\n",
       "    }\n",
       "\n",
       "    .dataframe tbody tr th {\n",
       "        vertical-align: top;\n",
       "    }\n",
       "\n",
       "    .dataframe thead th {\n",
       "        text-align: right;\n",
       "    }\n",
       "</style>\n",
       "<table border=\"1\" class=\"dataframe\">\n",
       "  <thead>\n",
       "    <tr style=\"text-align: right;\">\n",
       "      <th></th>\n",
       "      <th>Invoice</th>\n",
       "      <th>StockCode</th>\n",
       "      <th>Description</th>\n",
       "      <th>Quantity</th>\n",
       "      <th>InvoiceDate</th>\n",
       "      <th>Price</th>\n",
       "      <th>Customer ID</th>\n",
       "      <th>Country</th>\n",
       "    </tr>\n",
       "  </thead>\n",
       "  <tbody>\n",
       "    <tr>\n",
       "      <th>0</th>\n",
       "      <td>489434</td>\n",
       "      <td>85048</td>\n",
       "      <td>15CM CHRISTMAS GLASS BALL 20 LIGHTS</td>\n",
       "      <td>12</td>\n",
       "      <td>2009-12-01 07:45:00</td>\n",
       "      <td>6.95</td>\n",
       "      <td>13085.0</td>\n",
       "      <td>United Kingdom</td>\n",
       "    </tr>\n",
       "    <tr>\n",
       "      <th>1</th>\n",
       "      <td>489434</td>\n",
       "      <td>79323P</td>\n",
       "      <td>PINK CHERRY LIGHTS</td>\n",
       "      <td>12</td>\n",
       "      <td>2009-12-01 07:45:00</td>\n",
       "      <td>6.75</td>\n",
       "      <td>13085.0</td>\n",
       "      <td>United Kingdom</td>\n",
       "    </tr>\n",
       "    <tr>\n",
       "      <th>2</th>\n",
       "      <td>489434</td>\n",
       "      <td>79323W</td>\n",
       "      <td>WHITE CHERRY LIGHTS</td>\n",
       "      <td>12</td>\n",
       "      <td>2009-12-01 07:45:00</td>\n",
       "      <td>6.75</td>\n",
       "      <td>13085.0</td>\n",
       "      <td>United Kingdom</td>\n",
       "    </tr>\n",
       "    <tr>\n",
       "      <th>3</th>\n",
       "      <td>489434</td>\n",
       "      <td>22041</td>\n",
       "      <td>RECORD FRAME 7\" SINGLE SIZE</td>\n",
       "      <td>48</td>\n",
       "      <td>2009-12-01 07:45:00</td>\n",
       "      <td>2.10</td>\n",
       "      <td>13085.0</td>\n",
       "      <td>United Kingdom</td>\n",
       "    </tr>\n",
       "    <tr>\n",
       "      <th>4</th>\n",
       "      <td>489434</td>\n",
       "      <td>21232</td>\n",
       "      <td>STRAWBERRY CERAMIC TRINKET BOX</td>\n",
       "      <td>24</td>\n",
       "      <td>2009-12-01 07:45:00</td>\n",
       "      <td>1.25</td>\n",
       "      <td>13085.0</td>\n",
       "      <td>United Kingdom</td>\n",
       "    </tr>\n",
       "  </tbody>\n",
       "</table>\n",
       "</div>"
      ],
      "text/plain": [
       "  Invoice StockCode                          Description  Quantity  \\\n",
       "0  489434     85048  15CM CHRISTMAS GLASS BALL 20 LIGHTS        12   \n",
       "1  489434    79323P                   PINK CHERRY LIGHTS        12   \n",
       "2  489434    79323W                  WHITE CHERRY LIGHTS        12   \n",
       "3  489434     22041         RECORD FRAME 7\" SINGLE SIZE         48   \n",
       "4  489434     21232       STRAWBERRY CERAMIC TRINKET BOX        24   \n",
       "\n",
       "           InvoiceDate  Price  Customer ID         Country  \n",
       "0  2009-12-01 07:45:00   6.95      13085.0  United Kingdom  \n",
       "1  2009-12-01 07:45:00   6.75      13085.0  United Kingdom  \n",
       "2  2009-12-01 07:45:00   6.75      13085.0  United Kingdom  \n",
       "3  2009-12-01 07:45:00   2.10      13085.0  United Kingdom  \n",
       "4  2009-12-01 07:45:00   1.25      13085.0  United Kingdom  "
      ]
     },
     "execution_count": 2,
     "metadata": {},
     "output_type": "execute_result"
    }
   ],
   "source": [
    "\"\"\"load data\"\"\"\n",
    "df = pd.read_csv(csv_path)\n",
    "df.head()"
   ]
  },
  {
   "cell_type": "code",
   "execution_count": 3,
   "metadata": {},
   "outputs": [
    {
     "data": {
      "text/html": [
       "<div>\n",
       "<style scoped>\n",
       "    .dataframe tbody tr th:only-of-type {\n",
       "        vertical-align: middle;\n",
       "    }\n",
       "\n",
       "    .dataframe tbody tr th {\n",
       "        vertical-align: top;\n",
       "    }\n",
       "\n",
       "    .dataframe thead th {\n",
       "        text-align: right;\n",
       "    }\n",
       "</style>\n",
       "<table border=\"1\" class=\"dataframe\">\n",
       "  <thead>\n",
       "    <tr style=\"text-align: right;\">\n",
       "      <th></th>\n",
       "      <th>Invoice</th>\n",
       "      <th>StockCode</th>\n",
       "      <th>Quantity</th>\n",
       "      <th>InvoiceDate</th>\n",
       "      <th>Price</th>\n",
       "      <th>Customer ID</th>\n",
       "    </tr>\n",
       "  </thead>\n",
       "  <tbody>\n",
       "    <tr>\n",
       "      <th>0</th>\n",
       "      <td>489434</td>\n",
       "      <td>85048</td>\n",
       "      <td>12</td>\n",
       "      <td>2009-12-01 07:45:00</td>\n",
       "      <td>6.95</td>\n",
       "      <td>13085</td>\n",
       "    </tr>\n",
       "    <tr>\n",
       "      <th>1</th>\n",
       "      <td>489434</td>\n",
       "      <td>79323P</td>\n",
       "      <td>12</td>\n",
       "      <td>2009-12-01 07:45:00</td>\n",
       "      <td>6.75</td>\n",
       "      <td>13085</td>\n",
       "    </tr>\n",
       "    <tr>\n",
       "      <th>2</th>\n",
       "      <td>489434</td>\n",
       "      <td>79323W</td>\n",
       "      <td>12</td>\n",
       "      <td>2009-12-01 07:45:00</td>\n",
       "      <td>6.75</td>\n",
       "      <td>13085</td>\n",
       "    </tr>\n",
       "    <tr>\n",
       "      <th>3</th>\n",
       "      <td>489434</td>\n",
       "      <td>22041</td>\n",
       "      <td>48</td>\n",
       "      <td>2009-12-01 07:45:00</td>\n",
       "      <td>2.10</td>\n",
       "      <td>13085</td>\n",
       "    </tr>\n",
       "    <tr>\n",
       "      <th>4</th>\n",
       "      <td>489434</td>\n",
       "      <td>21232</td>\n",
       "      <td>24</td>\n",
       "      <td>2009-12-01 07:45:00</td>\n",
       "      <td>1.25</td>\n",
       "      <td>13085</td>\n",
       "    </tr>\n",
       "  </tbody>\n",
       "</table>\n",
       "</div>"
      ],
      "text/plain": [
       "  Invoice StockCode  Quantity         InvoiceDate  Price  Customer ID\n",
       "0  489434     85048        12 2009-12-01 07:45:00   6.95        13085\n",
       "1  489434    79323P        12 2009-12-01 07:45:00   6.75        13085\n",
       "2  489434    79323W        12 2009-12-01 07:45:00   6.75        13085\n",
       "3  489434     22041        48 2009-12-01 07:45:00   2.10        13085\n",
       "4  489434     21232        24 2009-12-01 07:45:00   1.25        13085"
      ]
     },
     "execution_count": 3,
     "metadata": {},
     "output_type": "execute_result"
    }
   ],
   "source": [
    "\"\"\"first-step cleaning:\"\"\"\n",
    "\n",
    "# 1. drop rows non UK and then drop country column\n",
    "df = df.drop(df[df[\"Country\"] != \"United Kingdom\"].index)\n",
    "df = df.drop(columns=[\"Country\"])\n",
    "# 2. drop description column\n",
    "df = df.drop(columns=[\"Description\"])\n",
    "# 3. drop rows with negative or 0 quantity\n",
    "df = df.drop(df[df[\"Quantity\"] <= 0].index)\n",
    "# 4. drop rows with negative or 0 price\n",
    "df = df.drop(df[df[\"Price\"] <= 0].index)\n",
    "# 5. drop invoice column starting with letters (cancelations)\n",
    "df = df.drop(df[df[\"Invoice\"].str.contains(\"^[a-zA-Z]\", regex=True)].index)\n",
    "# 6. only keep rows with stock code starting with 5 digits\n",
    "df = df[df[\"StockCode\"].str.contains(\"^[0-9]{5}\", regex=True)]\n",
    "# 7. drop rows with nan values\n",
    "df = df.dropna()\n",
    "\n",
    "# 8. convert InvoiceDate to datetime\n",
    "df[\"InvoiceDate\"] = pd.to_datetime(df[\"InvoiceDate\"])\n",
    "# convert CustomerID to int\n",
    "df[\"Customer ID\"] = df[\"Customer ID\"].astype(int)\n",
    "\n",
    "df.head()"
   ]
  },
  {
   "cell_type": "markdown",
   "metadata": {},
   "source": [
    "# basket analysis"
   ]
  },
  {
   "cell_type": "code",
   "execution_count": 43,
   "metadata": {},
   "outputs": [
    {
     "data": {
      "text/html": [
       "<div>\n",
       "<style scoped>\n",
       "    .dataframe tbody tr th:only-of-type {\n",
       "        vertical-align: middle;\n",
       "    }\n",
       "\n",
       "    .dataframe tbody tr th {\n",
       "        vertical-align: top;\n",
       "    }\n",
       "\n",
       "    .dataframe thead th {\n",
       "        text-align: right;\n",
       "    }\n",
       "</style>\n",
       "<table border=\"1\" class=\"dataframe\">\n",
       "  <thead>\n",
       "    <tr style=\"text-align: right;\">\n",
       "      <th></th>\n",
       "      <th>products</th>\n",
       "    </tr>\n",
       "    <tr>\n",
       "      <th>Invoice</th>\n",
       "      <th></th>\n",
       "    </tr>\n",
       "  </thead>\n",
       "  <tbody>\n",
       "    <tr>\n",
       "      <th>489434</th>\n",
       "      <td>[85048, 79323P, 79323W, 22041, 21232, 22064, 2...</td>\n",
       "    </tr>\n",
       "    <tr>\n",
       "      <th>489435</th>\n",
       "      <td>[22350, 22349, 22195, 22353]</td>\n",
       "    </tr>\n",
       "    <tr>\n",
       "      <th>489436</th>\n",
       "      <td>[48173C, 21755, 21754, 84879, 22119, 22142, 22...</td>\n",
       "    </tr>\n",
       "    <tr>\n",
       "      <th>489437</th>\n",
       "      <td>[22143, 22145, 22130, 21364, 21360, 21351, 213...</td>\n",
       "    </tr>\n",
       "    <tr>\n",
       "      <th>489438</th>\n",
       "      <td>[21329, 21252, 21100, 21033, 20711, 21410, 214...</td>\n",
       "    </tr>\n",
       "  </tbody>\n",
       "</table>\n",
       "</div>"
      ],
      "text/plain": [
       "                                                  products\n",
       "Invoice                                                   \n",
       "489434   [85048, 79323P, 79323W, 22041, 21232, 22064, 2...\n",
       "489435                        [22350, 22349, 22195, 22353]\n",
       "489436   [48173C, 21755, 21754, 84879, 22119, 22142, 22...\n",
       "489437   [22143, 22145, 22130, 21364, 21360, 21351, 213...\n",
       "489438   [21329, 21252, 21100, 21033, 20711, 21410, 214..."
      ]
     },
     "execution_count": 43,
     "metadata": {},
     "output_type": "execute_result"
    }
   ],
   "source": [
    "\"\"\"second-step cleaning:\"\"\"\n",
    "# we only need to know which Invoice contains which product\n",
    "df_basket = df[[\"Invoice\", \"StockCode\"]]\n",
    "\n",
    "# only save the top n most frequent products \n",
    "num_top = 5\n",
    "\n",
    "# show in each invoice which products were bought\n",
    "invoice_products = df_basket.groupby('Invoice')['StockCode'].unique().to_frame(name='products')\n",
    "invoice_products.head()"
   ]
  },
  {
   "cell_type": "code",
   "execution_count": 37,
   "metadata": {},
   "outputs": [
    {
     "name": "stderr",
     "output_type": "stream",
     "text": [
      "  0%|          | 0/33361 [00:00<?, ?it/s]"
     ]
    },
    {
     "name": "stderr",
     "output_type": "stream",
     "text": [
      "100%|##########| 33361/33361 [00:21<00:00, 1554.00it/s]\n",
      "100%|##########| 4604/4604 [00:02<00:00, 2288.40it/s]\n",
      "100%|##########| 4604/4604 [00:02<00:00, 1552.39it/s]\n"
     ]
    }
   ],
   "source": [
    "\"\"\"calculation of invoice support (conditional probability)\"\"\"\n",
    "\n",
    "count_dict = {}\n",
    "prob_dict = {}\n",
    "\n",
    "# iterrate over all invoices\n",
    "for _, row in tqdm(invoice_products.iterrows(), total=len(invoice_products), ascii=True):\n",
    "    products = row['products']\n",
    "    for product_a in products:\n",
    "        count_dict[product_a] = count_dict.get(product_a, 0) + 1\n",
    "        if product_a not in prob_dict:\n",
    "            prob_dict[product_a] = {}\n",
    "        for product_b in products:\n",
    "            if product_a != product_b:\n",
    "                prob_dict[product_a][product_b] = prob_dict[product_a].get(product_b, 0) + 1\n",
    "\n",
    "# calculate conditional probability\n",
    "for product_a in tqdm(prob_dict, total=len(prob_dict), ascii=True):\n",
    "    for product_b in prob_dict[product_a]:\n",
    "        prob_dict[product_a][product_b] /= count_dict[product_a]\n",
    "\n",
    "# sort by probability (descending) and only keep the top5\n",
    "for product in tqdm(prob_dict, total=len(prob_dict), ascii=True):\n",
    "    prob_dict[product] = {k: v for k, v in sorted(prob_dict[product].items(), key=lambda item: item[1], reverse=True)}\n",
    "    prob_dict[product] = {k: v for k, v in list(prob_dict[product].items())[:num_top]}\n"
   ]
  },
  {
   "cell_type": "code",
   "execution_count": 40,
   "metadata": {},
   "outputs": [],
   "source": [
    "\"\"\"save the conditional probability dictionary as json file\"\"\"\n",
    "with open('prob_dict.json', 'w') as fp:\n",
    "    json.dump(prob_dict, fp) "
   ]
  },
  {
   "cell_type": "code",
   "execution_count": 41,
   "metadata": {},
   "outputs": [],
   "source": [
    "\"\"\"load the conditional probability dictionary from json file\"\"\"\n",
    "with open('prob_dict.json', 'r') as fp:\n",
    "    prob_dict = json.load(fp)"
   ]
  },
  {
   "cell_type": "code",
   "execution_count": 45,
   "metadata": {},
   "outputs": [
    {
     "name": "stdout",
     "output_type": "stream",
     "text": [
      "For the product 82482, the top 5 products with highest probability are:\n",
      "82494L: 0.6033519553072626\n",
      "85123A: 0.40782122905027934\n",
      "82483: 0.27932960893854747\n",
      "82486: 0.2737430167597765\n",
      "82484: 0.16387337057728119\n"
     ]
    },
    {
     "data": {
      "image/png": "[encoded data removed]",
      "text/plain": [
       "<Figure size 640x480 with 1 Axes>"
      ]
     },
     "metadata": {},
     "output_type": "display_data"
    }
   ],
   "source": [
    "def show_top(prob_dict, product, num=num_top):\n",
    "    # make sure the product is in the dictionary, num is positive and smaller than num_top\n",
    "    assert product in prob_dict.keys()\n",
    "    assert num > 0\n",
    "    assert num <= num_top\n",
    "\n",
    "    \n",
    "    interesting_dict = prob_dict[product]\n",
    "    key_list = list(interesting_dict.keys())[:num]\n",
    "    val_list = list(interesting_dict.values())[:num]\n",
    "\n",
    "    # display the top n products with probability\n",
    "    print(f\"For the product {product}, the top {num} products with highest probability are:\")\n",
    "    for i in range(num):\n",
    "        print(f\"{key_list[i]}: {val_list[i]}\")\n",
    "\n",
    "    # visualize\n",
    "    plt.bar(key_list, val_list)\n",
    "    plt.xlabel(\"product\")\n",
    "    plt.ylabel(\"Probability\")\n",
    "    plt.show()\n",
    "\n",
    "show_top(prob_dict, \"82482\")"
   ]
  }
 ],
 "metadata": {
  "kernelspec": {
   "display_name": "Python 3",
   "language": "python",
   "name": "python3"
  },
  "language_info": {
   "codemirror_mode": {
    "name": "ipython",
    "version": 3
   },
   "file_extension": ".py",
   "mimetype": "text/x-python",
   "name": "python",
   "nbconvert_exporter": "python",
   "pygments_lexer": "ipython3",
   "version": "3.7.16"
  },
  "orig_nbformat": 4
 },
 "nbformat": 4,
 "nbformat_minor": 2
}
