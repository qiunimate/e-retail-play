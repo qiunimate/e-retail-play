{
 "cells": [
  {
   "cell_type": "code",
   "execution_count": 89,
   "metadata": {},
   "outputs": [],
   "source": [
    "import pandas as pd\n",
    "import warnings\n",
    "from tqdm import tqdm\n",
    "import matplotlib.pyplot as plt\n",
    "import json\n",
    "import numpy as np\n",
    "from sklearn.model_selection import train_test_split\n",
    "from sklearn.ensemble import RandomForestClassifier\n",
    "from sklearn.preprocessing import MultiLabelBinarizer\n",
    "from sklearn.model_selection import KFold\n",
    "from sklearn.model_selection import cross_validate\n",
    "import xgboost as xgb\n",
    "import pickle\n",
    "from functools import reduce\n",
    "\n"
   ]
  },
  {
   "cell_type": "markdown",
   "metadata": {},
   "source": [
    "# basket analysis"
   ]
  },
  {
   "cell_type": "markdown",
   "metadata": {},
   "source": [
    "## load and clean"
   ]
  },
  {
   "cell_type": "code",
   "execution_count": 2,
   "metadata": {},
   "outputs": [
    {
     "data": {
      "text/html": [
       "<div>\n",
       "<style scoped>\n",
       "    .dataframe tbody tr th:only-of-type {\n",
       "        vertical-align: middle;\n",
       "    }\n",
       "\n",
       "    .dataframe tbody tr th {\n",
       "        vertical-align: top;\n",
       "    }\n",
       "\n",
       "    .dataframe thead th {\n",
       "        text-align: right;\n",
       "    }\n",
       "</style>\n",
       "<table border=\"1\" class=\"dataframe\">\n",
       "  <thead>\n",
       "    <tr style=\"text-align: right;\">\n",
       "      <th></th>\n",
       "      <th>Invoice</th>\n",
       "      <th>StockCode</th>\n",
       "      <th>Description</th>\n",
       "      <th>Quantity</th>\n",
       "      <th>InvoiceDate</th>\n",
       "      <th>Price</th>\n",
       "      <th>Customer ID</th>\n",
       "      <th>Country</th>\n",
       "    </tr>\n",
       "  </thead>\n",
       "  <tbody>\n",
       "    <tr>\n",
       "      <th>0</th>\n",
       "      <td>489434</td>\n",
       "      <td>85048</td>\n",
       "      <td>15CM CHRISTMAS GLASS BALL 20 LIGHTS</td>\n",
       "      <td>12</td>\n",
       "      <td>2009-12-01 07:45:00</td>\n",
       "      <td>6.95</td>\n",
       "      <td>13085.0</td>\n",
       "      <td>United Kingdom</td>\n",
       "    </tr>\n",
       "    <tr>\n",
       "      <th>1</th>\n",
       "      <td>489434</td>\n",
       "      <td>79323P</td>\n",
       "      <td>PINK CHERRY LIGHTS</td>\n",
       "      <td>12</td>\n",
       "      <td>2009-12-01 07:45:00</td>\n",
       "      <td>6.75</td>\n",
       "      <td>13085.0</td>\n",
       "      <td>United Kingdom</td>\n",
       "    </tr>\n",
       "    <tr>\n",
       "      <th>2</th>\n",
       "      <td>489434</td>\n",
       "      <td>79323W</td>\n",
       "      <td>WHITE CHERRY LIGHTS</td>\n",
       "      <td>12</td>\n",
       "      <td>2009-12-01 07:45:00</td>\n",
       "      <td>6.75</td>\n",
       "      <td>13085.0</td>\n",
       "      <td>United Kingdom</td>\n",
       "    </tr>\n",
       "    <tr>\n",
       "      <th>3</th>\n",
       "      <td>489434</td>\n",
       "      <td>22041</td>\n",
       "      <td>RECORD FRAME 7\" SINGLE SIZE</td>\n",
       "      <td>48</td>\n",
       "      <td>2009-12-01 07:45:00</td>\n",
       "      <td>2.10</td>\n",
       "      <td>13085.0</td>\n",
       "      <td>United Kingdom</td>\n",
       "    </tr>\n",
       "    <tr>\n",
       "      <th>4</th>\n",
       "      <td>489434</td>\n",
       "      <td>21232</td>\n",
       "      <td>STRAWBERRY CERAMIC TRINKET BOX</td>\n",
       "      <td>24</td>\n",
       "      <td>2009-12-01 07:45:00</td>\n",
       "      <td>1.25</td>\n",
       "      <td>13085.0</td>\n",
       "      <td>United Kingdom</td>\n",
       "    </tr>\n",
       "  </tbody>\n",
       "</table>\n",
       "</div>"
      ],
      "text/plain": [
       "  Invoice StockCode                          Description  Quantity  \\\n",
       "0  489434     85048  15CM CHRISTMAS GLASS BALL 20 LIGHTS        12   \n",
       "1  489434    79323P                   PINK CHERRY LIGHTS        12   \n",
       "2  489434    79323W                  WHITE CHERRY LIGHTS        12   \n",
       "3  489434     22041         RECORD FRAME 7\" SINGLE SIZE         48   \n",
       "4  489434     21232       STRAWBERRY CERAMIC TRINKET BOX        24   \n",
       "\n",
       "           InvoiceDate  Price  Customer ID         Country  \n",
       "0  2009-12-01 07:45:00   6.95      13085.0  United Kingdom  \n",
       "1  2009-12-01 07:45:00   6.75      13085.0  United Kingdom  \n",
       "2  2009-12-01 07:45:00   6.75      13085.0  United Kingdom  \n",
       "3  2009-12-01 07:45:00   2.10      13085.0  United Kingdom  \n",
       "4  2009-12-01 07:45:00   1.25      13085.0  United Kingdom  "
      ]
     },
     "execution_count": 2,
     "metadata": {},
     "output_type": "execute_result"
    }
   ],
   "source": [
    "csv_path = \"./online_retail_II.csv\"\n",
    "json_path = \"./prob_dict.json\"\n",
    "\n",
    "\"\"\"load data\"\"\"\n",
    "df = pd.read_csv(csv_path)\n",
    "df.head()"
   ]
  },
  {
   "cell_type": "code",
   "execution_count": 3,
   "metadata": {},
   "outputs": [
    {
     "data": {
      "text/html": [
       "<div>\n",
       "<style scoped>\n",
       "    .dataframe tbody tr th:only-of-type {\n",
       "        vertical-align: middle;\n",
       "    }\n",
       "\n",
       "    .dataframe tbody tr th {\n",
       "        vertical-align: top;\n",
       "    }\n",
       "\n",
       "    .dataframe thead th {\n",
       "        text-align: right;\n",
       "    }\n",
       "</style>\n",
       "<table border=\"1\" class=\"dataframe\">\n",
       "  <thead>\n",
       "    <tr style=\"text-align: right;\">\n",
       "      <th></th>\n",
       "      <th>Invoice</th>\n",
       "      <th>StockCode</th>\n",
       "      <th>Quantity</th>\n",
       "      <th>InvoiceDate</th>\n",
       "      <th>Price</th>\n",
       "      <th>Customer ID</th>\n",
       "    </tr>\n",
       "  </thead>\n",
       "  <tbody>\n",
       "    <tr>\n",
       "      <th>0</th>\n",
       "      <td>489434</td>\n",
       "      <td>85048</td>\n",
       "      <td>12</td>\n",
       "      <td>2009-12-01 07:45:00</td>\n",
       "      <td>6.95</td>\n",
       "      <td>13085.0</td>\n",
       "    </tr>\n",
       "    <tr>\n",
       "      <th>1</th>\n",
       "      <td>489434</td>\n",
       "      <td>79323P</td>\n",
       "      <td>12</td>\n",
       "      <td>2009-12-01 07:45:00</td>\n",
       "      <td>6.75</td>\n",
       "      <td>13085.0</td>\n",
       "    </tr>\n",
       "    <tr>\n",
       "      <th>2</th>\n",
       "      <td>489434</td>\n",
       "      <td>79323W</td>\n",
       "      <td>12</td>\n",
       "      <td>2009-12-01 07:45:00</td>\n",
       "      <td>6.75</td>\n",
       "      <td>13085.0</td>\n",
       "    </tr>\n",
       "    <tr>\n",
       "      <th>3</th>\n",
       "      <td>489434</td>\n",
       "      <td>22041</td>\n",
       "      <td>48</td>\n",
       "      <td>2009-12-01 07:45:00</td>\n",
       "      <td>2.10</td>\n",
       "      <td>13085.0</td>\n",
       "    </tr>\n",
       "    <tr>\n",
       "      <th>4</th>\n",
       "      <td>489434</td>\n",
       "      <td>21232</td>\n",
       "      <td>24</td>\n",
       "      <td>2009-12-01 07:45:00</td>\n",
       "      <td>1.25</td>\n",
       "      <td>13085.0</td>\n",
       "    </tr>\n",
       "  </tbody>\n",
       "</table>\n",
       "</div>"
      ],
      "text/plain": [
       "  Invoice StockCode  Quantity         InvoiceDate  Price  Customer ID\n",
       "0  489434     85048        12 2009-12-01 07:45:00   6.95      13085.0\n",
       "1  489434    79323P        12 2009-12-01 07:45:00   6.75      13085.0\n",
       "2  489434    79323W        12 2009-12-01 07:45:00   6.75      13085.0\n",
       "3  489434     22041        48 2009-12-01 07:45:00   2.10      13085.0\n",
       "4  489434     21232        24 2009-12-01 07:45:00   1.25      13085.0"
      ]
     },
     "execution_count": 3,
     "metadata": {},
     "output_type": "execute_result"
    }
   ],
   "source": [
    "\"\"\"first-step cleaning:\"\"\"\n",
    "\n",
    "# 1. drop rows non UK and then drop country column\n",
    "df = df.drop(df[df[\"Country\"] != \"United Kingdom\"].index)\n",
    "df = df.drop(columns=[\"Country\"])\n",
    "# 2. drop description column\n",
    "df = df.drop(columns=[\"Description\"])\n",
    "# 3. drop rows with negative or 0 quantity\n",
    "df = df.drop(df[df[\"Quantity\"] <= 0].index)\n",
    "# 4. drop rows with negative or 0 price\n",
    "df = df.drop(df[df[\"Price\"] <= 0].index)\n",
    "# 5. drop invoice column starting with letters (cancelations)\n",
    "df = df.drop(df[df[\"Invoice\"].str.contains(\"^[a-zA-Z]\", regex=True)].index)\n",
    "# 6. only keep rows with stock code starting with 5 digits\n",
    "df = df[df[\"StockCode\"].str.contains(\"^[0-9]{5}\", regex=True)]\n",
    "\n",
    "# 7. convert InvoiceDate to datetime\n",
    "df[\"InvoiceDate\"] = pd.to_datetime(df[\"InvoiceDate\"])\n",
    "\n",
    "df.head()"
   ]
  },
  {
   "cell_type": "code",
   "execution_count": 4,
   "metadata": {},
   "outputs": [
    {
     "data": {
      "text/html": [
       "<div>\n",
       "<style scoped>\n",
       "    .dataframe tbody tr th:only-of-type {\n",
       "        vertical-align: middle;\n",
       "    }\n",
       "\n",
       "    .dataframe tbody tr th {\n",
       "        vertical-align: top;\n",
       "    }\n",
       "\n",
       "    .dataframe thead th {\n",
       "        text-align: right;\n",
       "    }\n",
       "</style>\n",
       "<table border=\"1\" class=\"dataframe\">\n",
       "  <thead>\n",
       "    <tr style=\"text-align: right;\">\n",
       "      <th></th>\n",
       "      <th>products</th>\n",
       "    </tr>\n",
       "    <tr>\n",
       "      <th>Invoice</th>\n",
       "      <th></th>\n",
       "    </tr>\n",
       "  </thead>\n",
       "  <tbody>\n",
       "    <tr>\n",
       "      <th>489434</th>\n",
       "      <td>[85048, 79323P, 79323W, 22041, 21232, 22064, 2...</td>\n",
       "    </tr>\n",
       "    <tr>\n",
       "      <th>489435</th>\n",
       "      <td>[22350, 22349, 22195, 22353]</td>\n",
       "    </tr>\n",
       "    <tr>\n",
       "      <th>489436</th>\n",
       "      <td>[48173C, 21755, 21754, 84879, 22119, 22142, 22...</td>\n",
       "    </tr>\n",
       "    <tr>\n",
       "      <th>489437</th>\n",
       "      <td>[22143, 22145, 22130, 21364, 21360, 21351, 213...</td>\n",
       "    </tr>\n",
       "    <tr>\n",
       "      <th>489438</th>\n",
       "      <td>[21329, 21252, 21100, 21033, 20711, 21410, 214...</td>\n",
       "    </tr>\n",
       "  </tbody>\n",
       "</table>\n",
       "</div>"
      ],
      "text/plain": [
       "                                                  products\n",
       "Invoice                                                   \n",
       "489434   [85048, 79323P, 79323W, 22041, 21232, 22064, 2...\n",
       "489435                        [22350, 22349, 22195, 22353]\n",
       "489436   [48173C, 21755, 21754, 84879, 22119, 22142, 22...\n",
       "489437   [22143, 22145, 22130, 21364, 21360, 21351, 213...\n",
       "489438   [21329, 21252, 21100, 21033, 20711, 21410, 214..."
      ]
     },
     "execution_count": 4,
     "metadata": {},
     "output_type": "execute_result"
    }
   ],
   "source": [
    "\"\"\"second-step cleaning:\"\"\"\n",
    "# we only need to know which Invoice contains which product\n",
    "df_basket = df[[\"Invoice\", \"StockCode\"]]\n",
    "\n",
    "# only save the top n most frequent products \n",
    "num_top = 5\n",
    "\n",
    "# show in each invoice which products were bought\n",
    "invoice_products = df_basket.groupby('Invoice')['StockCode'].unique().to_frame(name='products')\n",
    "invoice_products.head()"
   ]
  },
  {
   "cell_type": "code",
   "execution_count": 5,
   "metadata": {},
   "outputs": [
    {
     "name": "stderr",
     "output_type": "stream",
     "text": [
      "100%|##########| 36184/36184 [00:47<00:00, 763.00it/s] \n",
      "100%|##########| 4867/4867 [00:02<00:00, 1626.90it/s]\n",
      "100%|##########| 4867/4867 [00:04<00:00, 986.16it/s] \n"
     ]
    }
   ],
   "source": [
    "\"\"\"calculation of invoice support (conditional probability)\"\"\"\n",
    "\n",
    "count_dict = {}\n",
    "prob_dict = {}\n",
    "\n",
    "# iterrate over all invoices\n",
    "for _, row in tqdm(invoice_products.iterrows(), total=len(invoice_products), ascii=True):\n",
    "    products = row['products']\n",
    "    for product_a in products:\n",
    "        count_dict[product_a] = count_dict.get(product_a, 0) + 1\n",
    "        if product_a not in prob_dict:\n",
    "            prob_dict[product_a] = {}\n",
    "        for product_b in products:\n",
    "            if product_a != product_b:\n",
    "                prob_dict[product_a][product_b] = prob_dict[product_a].get(product_b, 0) + 1\n",
    "\n",
    "# calculate conditional probability\n",
    "for product_a in tqdm(prob_dict, total=len(prob_dict), ascii=True):\n",
    "    for product_b in prob_dict[product_a]:\n",
    "        prob_dict[product_a][product_b] /= count_dict[product_a]\n",
    "\n",
    "# sort by probability (descending) and only keep the top5\n",
    "for product in tqdm(prob_dict, total=len(prob_dict), ascii=True):\n",
    "    prob_dict[product] = {k: v for k, v in sorted(prob_dict[product].items(), key=lambda item: item[1], reverse=True)}\n",
    "    prob_dict[product] = {k: v for k, v in list(prob_dict[product].items())[:num_top]}\n"
   ]
  },
  {
   "cell_type": "code",
   "execution_count": 6,
   "metadata": {},
   "outputs": [],
   "source": [
    "\"\"\"save the conditional probability dictionary as json file\"\"\"\n",
    "with open('prob_dict.json', 'w') as fp:\n",
    "    json.dump(prob_dict, fp) "
   ]
  },
  {
   "cell_type": "code",
   "execution_count": 7,
   "metadata": {},
   "outputs": [],
   "source": [
    "\"\"\"load the conditional probability dictionary from json file\"\"\"\n",
    "with open('prob_dict.json', 'r') as fp:\n",
    "    prob_dict = json.load(fp)"
   ]
  },
  {
   "cell_type": "code",
   "execution_count": 8,
   "metadata": {},
   "outputs": [
    {
     "name": "stdout",
     "output_type": "stream",
     "text": [
      "For the product 82482, the top 5 products with highest probability are:\n",
      "82494L: 0.5394063459570113\n",
      "85123A: 0.40276356192425794\n",
      "82483: 0.2436028659160696\n",
      "82486: 0.23541453428863868\n",
      "85099B: 0.21699078812691913\n"
     ]
    },
    {
     "data": {
      "image/png": "[encoded data removed]",
      "text/plain": [
       "<Figure size 640x480 with 1 Axes>"
      ]
     },
     "metadata": {},
     "output_type": "display_data"
    }
   ],
   "source": [
    "def show_top(prob_dict, product, num=num_top):\n",
    "    # make sure the product is in the dictionary, num is positive and smaller than num_top\n",
    "    assert product in prob_dict.keys()\n",
    "    assert num > 0\n",
    "    assert num <= num_top\n",
    "\n",
    "    interesting_dict = prob_dict[product]\n",
    "    key_list = list(interesting_dict.keys())[:num]\n",
    "    val_list = list(interesting_dict.values())[:num]\n",
    "\n",
    "    # display the top n products with probability\n",
    "    print(f\"For the product {product}, the top {num} products with highest probability are:\")\n",
    "    for i in range(num):\n",
    "        print(f\"{key_list[i]}: {val_list[i]}\")\n",
    "\n",
    "    # visualize\n",
    "    plt.bar(key_list, val_list)\n",
    "    plt.xlabel(\"product\")\n",
    "    plt.ylabel(\"Probability\")\n",
    "    plt.show()\n",
    "\n",
    "show_top(prob_dict, \"82482\")"
   ]
  },
  {
   "cell_type": "markdown",
   "metadata": {},
   "source": [
    "# returned customers"
   ]
  },
  {
   "cell_type": "code",
   "execution_count": 145,
   "metadata": {},
   "outputs": [
    {
     "data": {
      "text/html": [
       "<div>\n",
       "<style scoped>\n",
       "    .dataframe tbody tr th:only-of-type {\n",
       "        vertical-align: middle;\n",
       "    }\n",
       "\n",
       "    .dataframe tbody tr th {\n",
       "        vertical-align: top;\n",
       "    }\n",
       "\n",
       "    .dataframe thead th {\n",
       "        text-align: right;\n",
       "    }\n",
       "</style>\n",
       "<table border=\"1\" class=\"dataframe\">\n",
       "  <thead>\n",
       "    <tr style=\"text-align: right;\">\n",
       "      <th></th>\n",
       "      <th>Invoice</th>\n",
       "      <th>StockCode</th>\n",
       "      <th>Description</th>\n",
       "      <th>Quantity</th>\n",
       "      <th>InvoiceDate</th>\n",
       "      <th>Price</th>\n",
       "      <th>Customer ID</th>\n",
       "      <th>Country</th>\n",
       "    </tr>\n",
       "  </thead>\n",
       "  <tbody>\n",
       "    <tr>\n",
       "      <th>0</th>\n",
       "      <td>489434</td>\n",
       "      <td>85048</td>\n",
       "      <td>15CM CHRISTMAS GLASS BALL 20 LIGHTS</td>\n",
       "      <td>12</td>\n",
       "      <td>2009-12-01 07:45:00</td>\n",
       "      <td>6.95</td>\n",
       "      <td>13085.0</td>\n",
       "      <td>United Kingdom</td>\n",
       "    </tr>\n",
       "    <tr>\n",
       "      <th>1</th>\n",
       "      <td>489434</td>\n",
       "      <td>79323P</td>\n",
       "      <td>PINK CHERRY LIGHTS</td>\n",
       "      <td>12</td>\n",
       "      <td>2009-12-01 07:45:00</td>\n",
       "      <td>6.75</td>\n",
       "      <td>13085.0</td>\n",
       "      <td>United Kingdom</td>\n",
       "    </tr>\n",
       "    <tr>\n",
       "      <th>2</th>\n",
       "      <td>489434</td>\n",
       "      <td>79323W</td>\n",
       "      <td>WHITE CHERRY LIGHTS</td>\n",
       "      <td>12</td>\n",
       "      <td>2009-12-01 07:45:00</td>\n",
       "      <td>6.75</td>\n",
       "      <td>13085.0</td>\n",
       "      <td>United Kingdom</td>\n",
       "    </tr>\n",
       "    <tr>\n",
       "      <th>3</th>\n",
       "      <td>489434</td>\n",
       "      <td>22041</td>\n",
       "      <td>RECORD FRAME 7\" SINGLE SIZE</td>\n",
       "      <td>48</td>\n",
       "      <td>2009-12-01 07:45:00</td>\n",
       "      <td>2.10</td>\n",
       "      <td>13085.0</td>\n",
       "      <td>United Kingdom</td>\n",
       "    </tr>\n",
       "    <tr>\n",
       "      <th>4</th>\n",
       "      <td>489434</td>\n",
       "      <td>21232</td>\n",
       "      <td>STRAWBERRY CERAMIC TRINKET BOX</td>\n",
       "      <td>24</td>\n",
       "      <td>2009-12-01 07:45:00</td>\n",
       "      <td>1.25</td>\n",
       "      <td>13085.0</td>\n",
       "      <td>United Kingdom</td>\n",
       "    </tr>\n",
       "  </tbody>\n",
       "</table>\n",
       "</div>"
      ],
      "text/plain": [
       "  Invoice StockCode                          Description  Quantity  \\\n",
       "0  489434     85048  15CM CHRISTMAS GLASS BALL 20 LIGHTS        12   \n",
       "1  489434    79323P                   PINK CHERRY LIGHTS        12   \n",
       "2  489434    79323W                  WHITE CHERRY LIGHTS        12   \n",
       "3  489434     22041         RECORD FRAME 7\" SINGLE SIZE         48   \n",
       "4  489434     21232       STRAWBERRY CERAMIC TRINKET BOX        24   \n",
       "\n",
       "           InvoiceDate  Price  Customer ID         Country  \n",
       "0  2009-12-01 07:45:00   6.95      13085.0  United Kingdom  \n",
       "1  2009-12-01 07:45:00   6.75      13085.0  United Kingdom  \n",
       "2  2009-12-01 07:45:00   6.75      13085.0  United Kingdom  \n",
       "3  2009-12-01 07:45:00   2.10      13085.0  United Kingdom  \n",
       "4  2009-12-01 07:45:00   1.25      13085.0  United Kingdom  "
      ]
     },
     "execution_count": 145,
     "metadata": {},
     "output_type": "execute_result"
    }
   ],
   "source": [
    "\"\"\"load and clean data\"\"\"\n",
    "csv_path = \"./online_retail_II.csv\"\n",
    "model_path = \"./model.pkl\"\n",
    "\n",
    "\"\"\"load data\"\"\"\n",
    "df = pd.read_csv(csv_path)\n",
    "df.head()"
   ]
  },
  {
   "cell_type": "code",
   "execution_count": 146,
   "metadata": {},
   "outputs": [
    {
     "data": {
      "text/html": [
       "<div>\n",
       "<style scoped>\n",
       "    .dataframe tbody tr th:only-of-type {\n",
       "        vertical-align: middle;\n",
       "    }\n",
       "\n",
       "    .dataframe tbody tr th {\n",
       "        vertical-align: top;\n",
       "    }\n",
       "\n",
       "    .dataframe thead th {\n",
       "        text-align: right;\n",
       "    }\n",
       "</style>\n",
       "<table border=\"1\" class=\"dataframe\">\n",
       "  <thead>\n",
       "    <tr style=\"text-align: right;\">\n",
       "      <th></th>\n",
       "      <th>Invoice</th>\n",
       "      <th>StockCode</th>\n",
       "      <th>Quantity</th>\n",
       "      <th>InvoiceDate</th>\n",
       "      <th>Price</th>\n",
       "      <th>Customer ID</th>\n",
       "      <th>TotalPrice</th>\n",
       "    </tr>\n",
       "  </thead>\n",
       "  <tbody>\n",
       "    <tr>\n",
       "      <th>0</th>\n",
       "      <td>489434</td>\n",
       "      <td>0</td>\n",
       "      <td>12</td>\n",
       "      <td>2009-12-01 07:45:00</td>\n",
       "      <td>6.95</td>\n",
       "      <td>13085</td>\n",
       "      <td>83.4</td>\n",
       "    </tr>\n",
       "    <tr>\n",
       "      <th>1</th>\n",
       "      <td>489434</td>\n",
       "      <td>1</td>\n",
       "      <td>12</td>\n",
       "      <td>2009-12-01 07:45:00</td>\n",
       "      <td>6.75</td>\n",
       "      <td>13085</td>\n",
       "      <td>81.0</td>\n",
       "    </tr>\n",
       "    <tr>\n",
       "      <th>2</th>\n",
       "      <td>489434</td>\n",
       "      <td>2</td>\n",
       "      <td>12</td>\n",
       "      <td>2009-12-01 07:45:00</td>\n",
       "      <td>6.75</td>\n",
       "      <td>13085</td>\n",
       "      <td>81.0</td>\n",
       "    </tr>\n",
       "    <tr>\n",
       "      <th>3</th>\n",
       "      <td>489434</td>\n",
       "      <td>3</td>\n",
       "      <td>48</td>\n",
       "      <td>2009-12-01 07:45:00</td>\n",
       "      <td>2.10</td>\n",
       "      <td>13085</td>\n",
       "      <td>100.8</td>\n",
       "    </tr>\n",
       "    <tr>\n",
       "      <th>4</th>\n",
       "      <td>489434</td>\n",
       "      <td>4</td>\n",
       "      <td>24</td>\n",
       "      <td>2009-12-01 07:45:00</td>\n",
       "      <td>1.25</td>\n",
       "      <td>13085</td>\n",
       "      <td>30.0</td>\n",
       "    </tr>\n",
       "  </tbody>\n",
       "</table>\n",
       "</div>"
      ],
      "text/plain": [
       "  Invoice  StockCode  Quantity         InvoiceDate  Price  Customer ID  \\\n",
       "0  489434          0        12 2009-12-01 07:45:00   6.95        13085   \n",
       "1  489434          1        12 2009-12-01 07:45:00   6.75        13085   \n",
       "2  489434          2        12 2009-12-01 07:45:00   6.75        13085   \n",
       "3  489434          3        48 2009-12-01 07:45:00   2.10        13085   \n",
       "4  489434          4        24 2009-12-01 07:45:00   1.25        13085   \n",
       "\n",
       "   TotalPrice  \n",
       "0        83.4  \n",
       "1        81.0  \n",
       "2        81.0  \n",
       "3       100.8  \n",
       "4        30.0  "
      ]
     },
     "execution_count": 146,
     "metadata": {},
     "output_type": "execute_result"
    }
   ],
   "source": [
    "\"\"\"cleaning:\"\"\"\n",
    "\n",
    "def clean(df):\n",
    "    # 1. drop rows non UK and then drop country column\n",
    "    df = df.drop(df[df[\"Country\"] != \"United Kingdom\"].index)\n",
    "    df = df.drop(columns=[\"Country\"])\n",
    "    # 2. drop description column\n",
    "    df = df.drop(columns=[\"Description\"])\n",
    "    # 3. drop rows with negative or 0 quantity\n",
    "    df = df.drop(df[df[\"Quantity\"] <= 0].index)\n",
    "    # 4. drop rows with negative or 0 price\n",
    "    df = df.drop(df[df[\"Price\"] <= 0].index)\n",
    "    # 5. drop invoice column starting with letters (cancelations)\n",
    "    df = df.drop(df[df[\"Invoice\"].str.contains(\"^[a-zA-Z]\", regex=True)].index)\n",
    "    # 6. only keep rows with stock code starting with 5 digits\n",
    "    df = df[df[\"StockCode\"].str.contains(\"^[0-9]{5}\", regex=True)]\n",
    "    # 7. convert InvoiceDate to datetime\n",
    "    df[\"InvoiceDate\"] = pd.to_datetime(df[\"InvoiceDate\"])\n",
    "    # 8. drop rows with missing values\n",
    "    df = df.dropna()\n",
    "    # 9. convert CustomerID to int\n",
    "    df[\"Customer ID\"] = df[\"Customer ID\"].astype(int)\n",
    "    # 10. calculate total price\n",
    "    df[\"TotalPrice\"] = df[\"Quantity\"] * df[\"Price\"]\n",
    "    # 11. convert StockCode to its respective index\n",
    "    # get a unique list of StockCode\n",
    "    stock_code_list = df[\"StockCode\"].unique().tolist()\n",
    "    # get a dict of StockCode and its index and the reverse\n",
    "    stock_code_dict = {stock_code_list[i]: i for i in range(len(stock_code_list))}\n",
    "    df[\"StockCode\"] = df[\"StockCode\"].apply(lambda x: stock_code_dict[x])\n",
    "    return df, stock_code_dict\n",
    "# need the dict for future use\n",
    "df, stock_code_dict = clean(df)\n",
    "\n",
    "df.head()"
   ]
  },
  {
   "cell_type": "code",
   "execution_count": 147,
   "metadata": {},
   "outputs": [
    {
     "data": {
      "text/html": [
       "<div>\n",
       "<style scoped>\n",
       "    .dataframe tbody tr th:only-of-type {\n",
       "        vertical-align: middle;\n",
       "    }\n",
       "\n",
       "    .dataframe tbody tr th {\n",
       "        vertical-align: top;\n",
       "    }\n",
       "\n",
       "    .dataframe thead th {\n",
       "        text-align: right;\n",
       "    }\n",
       "</style>\n",
       "<table border=\"1\" class=\"dataframe\">\n",
       "  <thead>\n",
       "    <tr style=\"text-align: right;\">\n",
       "      <th></th>\n",
       "      <th>Customer ID</th>\n",
       "      <th>Invoice</th>\n",
       "    </tr>\n",
       "  </thead>\n",
       "  <tbody>\n",
       "    <tr>\n",
       "      <th>0</th>\n",
       "      <td>12346</td>\n",
       "      <td>[499763, 513774, 541431]</td>\n",
       "    </tr>\n",
       "    <tr>\n",
       "      <th>1</th>\n",
       "      <td>12608</td>\n",
       "      <td>[529807]</td>\n",
       "    </tr>\n",
       "    <tr>\n",
       "      <th>2</th>\n",
       "      <td>12745</td>\n",
       "      <td>[508457, 518560]</td>\n",
       "    </tr>\n",
       "    <tr>\n",
       "      <th>3</th>\n",
       "      <td>12746</td>\n",
       "      <td>[512627]</td>\n",
       "    </tr>\n",
       "    <tr>\n",
       "      <th>4</th>\n",
       "      <td>12747</td>\n",
       "      <td>[490678, 491045, 492300, 497572, 498399, 50072...</td>\n",
       "    </tr>\n",
       "  </tbody>\n",
       "</table>\n",
       "</div>"
      ],
      "text/plain": [
       "   Customer ID                                            Invoice\n",
       "0        12346                           [499763, 513774, 541431]\n",
       "1        12608                                           [529807]\n",
       "2        12745                                   [508457, 518560]\n",
       "3        12746                                           [512627]\n",
       "4        12747  [490678, 491045, 492300, 497572, 498399, 50072..."
      ]
     },
     "execution_count": 147,
     "metadata": {},
     "output_type": "execute_result"
    }
   ],
   "source": [
    "\"\"\"get dataframe of Customer ID and corresponding invoices (unique)\"\"\"\n",
    "\n",
    "grouped_data = df.groupby('Customer ID').agg({\n",
    "    'Invoice': lambda invoices: list(invoices.unique())  # Convert invoices to lists\n",
    "}).reset_index()\n",
    "grouped_data.columns = ['Customer ID', 'Invoice']\n",
    "grouped_data.head()"
   ]
  },
  {
   "cell_type": "code",
   "execution_count": 149,
   "metadata": {},
   "outputs": [
    {
     "data": {
      "text/plain": [
       "(33361, 5)"
      ]
     },
     "execution_count": 149,
     "metadata": {},
     "output_type": "execute_result"
    }
   ],
   "source": [
    "\"\"\"get useful information of each invoice\"\"\"\n",
    "invoice_data = df.groupby(['Invoice']).agg({\n",
    "    'Quantity': \"sum\",\n",
    "    \"TotalPrice\": \"sum\",\n",
    "    \"InvoiceDate\": \"first\",\n",
    "    \"StockCode\": lambda x: list(x.unique())\n",
    "}).reset_index()\n",
    "\n",
    "invoice_data.head()"
   ]
  },
  {
   "cell_type": "code",
   "execution_count": 140,
   "metadata": {},
   "outputs": [
    {
     "name": "stderr",
     "output_type": "stream",
     "text": [
      "100%|##########| 5334/5334 [01:14<00:00, 71.54it/s] \n"
     ]
    }
   ],
   "source": [
    "\"\"\"prepare data for model\"\"\"\n",
    "feature_list = []\n",
    "label_list = []\n",
    "start_year = 2009\n",
    "\n",
    "\n",
    "# get the quarter count of a date (from 2099)\n",
    "def quarter_count(date):\n",
    "    date = pd.to_datetime(date)\n",
    "    return (date.year - start_year) * 4 + date.quarter\n",
    "\n",
    "max_quater = max(list(invoice_data[\"InvoiceDate\"].apply(lambda x: quarter_count(x))))\n",
    "\n",
    "# tell if a costomer has bought in the next certain quarter\n",
    "def get_label(quater_count, quarter_list):\n",
    "    if quater_count + 1 in quarter_list:\n",
    "        return 1\n",
    "    else:\n",
    "        return 0\n",
    "\n",
    "# iterrate over all customers\n",
    "for i, row in tqdm(grouped_data.iterrows(), total=len(grouped_data), ascii=True):\n",
    "    invoice_list = row['Invoice']\n",
    "    date_list = invoice_data[invoice_data['Invoice'].isin(invoice_list)]['InvoiceDate'].tolist()\n",
    "    date_list = [quarter_count(date) for date in date_list]\n",
    "    date_list_unique = sorted(list(set(date_list)))\n",
    "\n",
    "    # for each unique quarter, get the corresponding invoices and calculate the features\n",
    "    for date in date_list_unique:\n",
    "        # the last quarter is not used for training\n",
    "        if date == max_quater:\n",
    "            continue\n",
    "        list_index = [invoice_list[i] for i, x in enumerate(date_list) if x == date]\n",
    "        selected_invoices = invoice_data[invoice_data['Invoice'].isin(list_index)]\n",
    "        union_list = reduce(lambda x, y: set(x).union(y), selected_invoices['StockCode'])\n",
    "        feature_list.append([selected_invoices['Quantity'].sum(), selected_invoices['Quantity'].mean(), \n",
    "                             selected_invoices['TotalPrice'].sum(), selected_invoices['TotalPrice'].mean(),\n",
    "                             date%4, len(union_list), union_list, get_label(date, date_list_unique)])\n",
    "\n",
    "# convert to dataframe\n",
    "feature_df = pd.DataFrame(feature_list, columns=['Quantity_sum', 'Quantity_mean', 'TotalPrice_sum', 'TotalPrice_mean', 'Quarter', 'types', 'type_list', 'Label'])\n"
   ]
  },
  {
   "cell_type": "code",
   "execution_count": 141,
   "metadata": {},
   "outputs": [],
   "source": [
    "\"\"\"encode the types and quarter because they are categorical\"\"\"\n",
    "mlb = MultiLabelBinarizer()\n",
    "# encode the types (1 if bought, 0 if not)\n",
    "one_hot_encoded_df = pd.DataFrame(mlb.fit_transform(feature_df['type_list']), columns=mlb.classes_)\n",
    "feature_df = pd.concat([feature_df, one_hot_encoded_df], axis=1).drop(columns=['type_list'])\n",
    "\n",
    "# encode the quarter (one hot)\n",
    "one_hot = pd.get_dummies(feature_df['Quarter'])\n",
    "# set one hot column names \"Quarter_0\", \"Quarter_1\", etc. to avoid confusion\n",
    "one_hot.columns = [\"Quarter_\" + str(i) for i in range(4)]\n",
    "feature_df = pd.concat([feature_df, one_hot], axis=1)"
   ]
  },
  {
   "cell_type": "code",
   "execution_count": 142,
   "metadata": {},
   "outputs": [
    {
     "name": "stdout",
     "output_type": "stream",
     "text": [
      "1    8127\n",
      "0    5996\n",
      "Name: Label, dtype: int64\n",
      "3    3817\n",
      "2    3691\n",
      "0    3361\n",
      "1    3254\n",
      "Name: Quarter, dtype: int64\n"
     ]
    }
   ],
   "source": [
    "# view the classes distribution in the dataset\n",
    "print(feature_df['Label'].value_counts())\n",
    "\n",
    "# view the quarter distribution in the dataset\n",
    "print(feature_df['Quarter'].value_counts())"
   ]
  },
  {
   "cell_type": "code",
   "execution_count": 143,
   "metadata": {},
   "outputs": [
    {
     "name": "stdout",
     "output_type": "stream",
     "text": [
      "1    6127\n",
      "0    5996\n",
      "Name: Label, dtype: int64\n",
      "3    3241\n",
      "2    3132\n",
      "0    2972\n",
      "1    2778\n",
      "Name: Quarter, dtype: int64\n"
     ]
    }
   ],
   "source": [
    "\"\"\"the label is balanced but the quarter is not balanced, so we randomly drop 2000 rows with quarter 0\"\"\"\n",
    "\n",
    "# randomly drop 2000 rows with Label 1\n",
    "feature_df = feature_df.drop(feature_df[feature_df['Label'] == 1].sample(n=2000, random_state=42).index)\n",
    "\n",
    "# view the classes distribution in the dataset\n",
    "print(feature_df['Label'].value_counts())\n",
    "\n",
    "# view the quarter distribution in the dataset\n",
    "print(feature_df['Quarter'].value_counts())"
   ]
  },
  {
   "cell_type": "code",
   "execution_count": 144,
   "metadata": {},
   "outputs": [
    {
     "name": "stderr",
     "output_type": "stream",
     "text": [
      "  0%|          | 0/7 [00:00<?, ?it/s]"
     ]
    },
    {
     "name": "stdout",
     "output_type": "stream",
     "text": [
      "n_estimators: 60, max_depth: 3, train_score: 0.6462157145803259, test_score: 0.6424742268041237\n",
      "n_estimators: 60, max_depth: 5, train_score: 0.6576613734790678, test_score: 0.6453608247422681\n",
      "n_estimators: 60, max_depth: 7, train_score: 0.670138172819138, test_score: 0.6457731958762887\n",
      "n_estimators: 60, max_depth: 9, train_score: 0.6934419467931532, test_score: 0.6441237113402062\n",
      "n_estimators: 60, max_depth: 11, train_score: 0.7163332645906373, test_score: 0.6511340206185567\n"
     ]
    },
    {
     "name": "stderr",
     "output_type": "stream",
     "text": [
      " 14%|#4        | 1/7 [00:17<01:44, 17.41s/it]"
     ]
    },
    {
     "name": "stdout",
     "output_type": "stream",
     "text": [
      "n_estimators: 60, max_depth: 13, train_score: 0.7413899773149103, test_score: 0.6593814432989691\n",
      "n_estimators: 80, max_depth: 3, train_score: 0.6495153639925758, test_score: 0.6412371134020619\n",
      "n_estimators: 80, max_depth: 5, train_score: 0.6603423386265209, test_score: 0.6503092783505154\n",
      "n_estimators: 80, max_depth: 7, train_score: 0.671787997525263, test_score: 0.6482474226804124\n",
      "n_estimators: 80, max_depth: 9, train_score: 0.6949886574551454, test_score: 0.6523711340206185\n",
      "n_estimators: 80, max_depth: 11, train_score: 0.7213858527531449, test_score: 0.6531958762886598\n"
     ]
    },
    {
     "name": "stderr",
     "output_type": "stream",
     "text": [
      " 29%|##8       | 2/7 [00:37<01:33, 18.77s/it]"
     ]
    },
    {
     "name": "stdout",
     "output_type": "stream",
     "text": [
      "n_estimators: 80, max_depth: 13, train_score: 0.7461332233450196, test_score: 0.6581443298969072\n",
      "n_estimators: 100, max_depth: 3, train_score: 0.6516807589193648, test_score: 0.6465979381443299\n",
      "n_estimators: 100, max_depth: 5, train_score: 0.6614765931119818, test_score: 0.6527835051546391\n",
      "n_estimators: 100, max_depth: 7, train_score: 0.6748814188492472, test_score: 0.6511340206185567\n",
      "n_estimators: 100, max_depth: 9, train_score: 0.6955042276758094, test_score: 0.6490721649484537\n",
      "n_estimators: 100, max_depth: 11, train_score: 0.7191173437822231, test_score: 0.6515463917525773\n"
     ]
    },
    {
     "name": "stderr",
     "output_type": "stream",
     "text": [
      " 43%|####2     | 3/7 [01:00<01:23, 20.81s/it]"
     ]
    },
    {
     "name": "stdout",
     "output_type": "stream",
     "text": [
      "n_estimators: 100, max_depth: 13, train_score: 0.7448958548154259, test_score: 0.657319587628866\n",
      "n_estimators: 120, max_depth: 3, train_score: 0.6465250567127243, test_score: 0.6494845360824743\n",
      "n_estimators: 120, max_depth: 5, train_score: 0.6601361105382553, test_score: 0.650721649484536\n",
      "n_estimators: 120, max_depth: 7, train_score: 0.6745720767168488, test_score: 0.6515463917525773\n",
      "n_estimators: 120, max_depth: 9, train_score: 0.6941637451020829, test_score: 0.6490721649484537\n",
      "n_estimators: 120, max_depth: 11, train_score: 0.7188080016498247, test_score: 0.6519587628865979\n"
     ]
    },
    {
     "name": "stderr",
     "output_type": "stream",
     "text": [
      " 57%|#####7    | 4/7 [01:26<01:08, 22.84s/it]"
     ]
    },
    {
     "name": "stdout",
     "output_type": "stream",
     "text": [
      "n_estimators: 120, max_depth: 13, train_score: 0.7472674778304805, test_score: 0.6548453608247423\n",
      "n_estimators: 140, max_depth: 3, train_score: 0.6480717673747164, test_score: 0.6474226804123712\n",
      "n_estimators: 140, max_depth: 5, train_score: 0.6607547948030522, test_score: 0.6548453608247423\n",
      "n_estimators: 140, max_depth: 7, train_score: 0.6740565064961848, test_score: 0.650721649484536\n",
      "n_estimators: 140, max_depth: 9, train_score: 0.6959166838523407, test_score: 0.6457731958762887\n",
      "n_estimators: 140, max_depth: 11, train_score: 0.7184986595174263, test_score: 0.6548453608247423\n"
     ]
    },
    {
     "name": "stderr",
     "output_type": "stream",
     "text": [
      " 71%|#######1  | 5/7 [01:56<00:50, 25.49s/it]"
     ]
    },
    {
     "name": "stdout",
     "output_type": "stream",
     "text": [
      "n_estimators: 140, max_depth: 13, train_score: 0.745926995256754, test_score: 0.6597938144329897\n",
      "n_estimators: 160, max_depth: 3, train_score: 0.6480717673747164, test_score: 0.6441237113402062\n",
      "n_estimators: 160, max_depth: 5, train_score: 0.6610641369354506, test_score: 0.6519587628865979\n",
      "n_estimators: 160, max_depth: 7, train_score: 0.6740565064961848, test_score: 0.6478350515463918\n",
      "n_estimators: 160, max_depth: 9, train_score: 0.6945762012786142, test_score: 0.6503092783505154\n",
      "n_estimators: 160, max_depth: 11, train_score: 0.7179830892967622, test_score: 0.6548453608247423\n"
     ]
    },
    {
     "name": "stderr",
     "output_type": "stream",
     "text": [
      " 86%|########5 | 6/7 [02:30<00:28, 28.32s/it]"
     ]
    },
    {
     "name": "stdout",
     "output_type": "stream",
     "text": [
      "n_estimators: 160, max_depth: 13, train_score: 0.7472674778304805, test_score: 0.6589690721649485\n",
      "n_estimators: 180, max_depth: 3, train_score: 0.6464219426685914, test_score: 0.6445360824742268\n",
      "n_estimators: 180, max_depth: 5, train_score: 0.6610641369354506, test_score: 0.6515463917525773\n",
      "n_estimators: 180, max_depth: 7, train_score: 0.6737471643637863, test_score: 0.650721649484536\n",
      "n_estimators: 180, max_depth: 9, train_score: 0.694679315322747, test_score: 0.6515463917525773\n",
      "n_estimators: 180, max_depth: 11, train_score: 0.7184986595174263, test_score: 0.6560824742268041\n"
     ]
    },
    {
     "name": "stderr",
     "output_type": "stream",
     "text": [
      "100%|##########| 7/7 [03:09<00:00, 27.06s/it]"
     ]
    },
    {
     "name": "stdout",
     "output_type": "stream",
     "text": [
      "n_estimators: 180, max_depth: 13, train_score: 0.7479892761394102, test_score: 0.657319587628866\n",
      "best score: 0.6597938144329897, best i: 140, best j: 13\n"
     ]
    },
    {
     "name": "stderr",
     "output_type": "stream",
     "text": [
      "\n"
     ]
    }
   ],
   "source": [
    "# split the data into train and test sets\n",
    "labels = feature_df['Label']\n",
    "features = feature_df.drop(columns=['Label', 'Quarter'])\n",
    "X_train, X_test, y_train, y_test = train_test_split(features, labels, test_size=0.2, random_state=1)\n",
    "\n",
    "with warnings.catch_warnings():\n",
    "    # ignore all caught warnings\n",
    "    warnings.filterwarnings(\"ignore\")\n",
    "    # train random forest with hyperparameter tuning\n",
    "    rf_best_model = None\n",
    "    rf_best_score = 0\n",
    "    rf_best_i = 0\n",
    "    rf_best_j = 0\n",
    "    rf_list_record = []\n",
    "\n",
    "    # iterrate over all possible hyperparameters\n",
    "    for i in tqdm(range(60, 200, 20), ascii=True):\n",
    "        for j in (3, 5, 7, 9, 11, 13):\n",
    "            model = RandomForestClassifier(n_estimators=i, max_depth=j,  random_state=1)\n",
    "            model.fit(X_train, y_train)\n",
    "            train_score = model.score(X_train, y_train)\n",
    "            score = model.score(X_test, y_test)\n",
    "            rf_list_record.append([i, j, train_score, score])\n",
    "            print(f\"n_estimators: {i}, max_depth: {j}, train_score: {train_score}, test_score: {score}\")\n",
    "            if score > rf_best_score:\n",
    "                rf_best_score = score\n",
    "                rf_best_model = model\n",
    "                rf_best_i = i\n",
    "                rf_best_j = j\n",
    "\n",
    "    print(f\"best score: {rf_best_score}, best i: {rf_best_i}, best j: {rf_best_j}\")"
   ]
  },
  {
   "cell_type": "code",
   "execution_count": 86,
   "metadata": {},
   "outputs": [
    {
     "data": {
      "image/png": "[encoded data removed]",
      "text/plain": [
       "<Figure size 640x480 with 1 Axes>"
      ]
     },
     "metadata": {},
     "output_type": "display_data"
    }
   ],
   "source": [
    "# visualize the rf_list_record as figure\n",
    "i_values = [item[0] for item in rf_list_record]\n",
    "j_values = [item[1] for item in rf_list_record]\n",
    "train_score_values = [item[2] for item in rf_list_record]\n",
    "score_values = [item[3] for item in rf_list_record]\n",
    "\n",
    "fig = plt.figure()\n",
    "ax = fig.add_subplot(111, projection='3d')\n",
    "ax.scatter(i_values, j_values, score_values, c='b', marker='x')\n",
    "ax.scatter(i_values, j_values, train_score_values, c='r', marker='o')\n",
    "ax.set_xlabel('n_estimators')\n",
    "ax.set_ylabel('max_depth')\n",
    "ax.set_zlabel('score')\n",
    "plt.legend([\"test\", \"train\"], loc =\"lower right\")\n",
    "plt.show()\n",
    "\n",
    "# The deeper the tree is, the more likely it is to overfit (though with higher score).\n",
    "# since 65% is not a good score, we try xgboost\n"
   ]
  },
  {
   "cell_type": "code",
   "execution_count": 85,
   "metadata": {},
   "outputs": [
    {
     "name": "stderr",
     "output_type": "stream",
     "text": [
      "  0%|          | 0/4 [00:00<?, ?it/s]"
     ]
    },
    {
     "name": "stdout",
     "output_type": "stream",
     "text": [
      "[14:25:29] WARNING: C:/Users/administrator/workspace/xgboost-win64_release_1.6.0/src/learner.cc:627: \n",
      "Parameters: { \"verbose\" } might not be used.\n",
      "\n",
      "  This could be a false alarm, with some parameters getting used by language bindings but\n",
      "  then being mistakenly passed down to XGBoost core, or some parameter actually being used\n",
      "  but getting flagged wrongly here. Please open an issue if you find any such cases.\n",
      "\n",
      "\n",
      "lr: 0.05, max_depth: 3, train_score: 0.6831305423798721, test_score: 0.6742268041237114\n",
      "[14:26:00] WARNING: C:/Users/administrator/workspace/xgboost-win64_release_1.6.0/src/learner.cc:627: \n",
      "Parameters: { \"verbose\" } might not be used.\n",
      "\n",
      "  This could be a false alarm, with some parameters getting used by language bindings but\n",
      "  then being mistakenly passed down to XGBoost core, or some parameter actually being used\n",
      "  but getting flagged wrongly here. Please open an issue if you find any such cases.\n",
      "\n",
      "\n"
     ]
    },
    {
     "name": "stderr",
     "output_type": "stream",
     "text": [
      " 25%|##5       | 1/4 [01:11<03:33, 71.25s/it]"
     ]
    },
    {
     "name": "stdout",
     "output_type": "stream",
     "text": [
      "lr: 0.05, max_depth: 5, train_score: 0.7176737471643638, test_score: 0.6684536082474227\n",
      "[14:26:40] WARNING: C:/Users/administrator/workspace/xgboost-win64_release_1.6.0/src/learner.cc:627: \n",
      "Parameters: { \"verbose\" } might not be used.\n",
      "\n",
      "  This could be a false alarm, with some parameters getting used by language bindings but\n",
      "  then being mistakenly passed down to XGBoost core, or some parameter actually being used\n",
      "  but getting flagged wrongly here. Please open an issue if you find any such cases.\n",
      "\n",
      "\n",
      "lr: 0.1, max_depth: 3, train_score: 0.6977727366467313, test_score: 0.6738144329896907\n",
      "[14:27:11] WARNING: C:/Users/administrator/workspace/xgboost-win64_release_1.6.0/src/learner.cc:627: \n",
      "Parameters: { \"verbose\" } might not be used.\n",
      "\n",
      "  This could be a false alarm, with some parameters getting used by language bindings but\n",
      "  then being mistakenly passed down to XGBoost core, or some parameter actually being used\n",
      "  but getting flagged wrongly here. Please open an issue if you find any such cases.\n",
      "\n",
      "\n"
     ]
    },
    {
     "name": "stderr",
     "output_type": "stream",
     "text": [
      " 50%|#####     | 2/4 [02:22<02:22, 71.49s/it]"
     ]
    },
    {
     "name": "stdout",
     "output_type": "stream",
     "text": [
      "lr: 0.1, max_depth: 5, train_score: 0.7467519076098165, test_score: 0.6684536082474227\n",
      "[14:27:51] WARNING: C:/Users/administrator/workspace/xgboost-win64_release_1.6.0/src/learner.cc:627: \n",
      "Parameters: { \"verbose\" } might not be used.\n",
      "\n",
      "  This could be a false alarm, with some parameters getting used by language bindings but\n",
      "  then being mistakenly passed down to XGBoost core, or some parameter actually being used\n",
      "  but getting flagged wrongly here. Please open an issue if you find any such cases.\n",
      "\n",
      "\n",
      "lr: 0.2, max_depth: 3, train_score: 0.7258197566508559, test_score: 0.6696907216494845\n",
      "[14:28:27] WARNING: C:/Users/administrator/workspace/xgboost-win64_release_1.6.0/src/learner.cc:627: \n",
      "Parameters: { \"verbose\" } might not be used.\n",
      "\n",
      "  This could be a false alarm, with some parameters getting used by language bindings but\n",
      "  then being mistakenly passed down to XGBoost core, or some parameter actually being used\n",
      "  but getting flagged wrongly here. Please open an issue if you find any such cases.\n",
      "\n",
      "\n"
     ]
    },
    {
     "name": "stderr",
     "output_type": "stream",
     "text": [
      " 75%|#######5  | 3/4 [03:41<01:14, 74.75s/it]"
     ]
    },
    {
     "name": "stdout",
     "output_type": "stream",
     "text": [
      "lr: 0.2, max_depth: 5, train_score: 0.7844916477624252, test_score: 0.6643298969072164\n",
      "[14:29:10] WARNING: C:/Users/administrator/workspace/xgboost-win64_release_1.6.0/src/learner.cc:627: \n",
      "Parameters: { \"verbose\" } might not be used.\n",
      "\n",
      "  This could be a false alarm, with some parameters getting used by language bindings but\n",
      "  then being mistakenly passed down to XGBoost core, or some parameter actually being used\n",
      "  but getting flagged wrongly here. Please open an issue if you find any such cases.\n",
      "\n",
      "\n",
      "lr: 0.3, max_depth: 3, train_score: 0.739946380697051, test_score: 0.6684536082474227\n",
      "[14:29:40] WARNING: C:/Users/administrator/workspace/xgboost-win64_release_1.6.0/src/learner.cc:627: \n",
      "Parameters: { \"verbose\" } might not be used.\n",
      "\n",
      "  This could be a false alarm, with some parameters getting used by language bindings but\n",
      "  then being mistakenly passed down to XGBoost core, or some parameter actually being used\n",
      "  but getting flagged wrongly here. Please open an issue if you find any such cases.\n",
      "\n",
      "\n"
     ]
    },
    {
     "name": "stderr",
     "output_type": "stream",
     "text": [
      "100%|##########| 4/4 [04:51<00:00, 72.83s/it]"
     ]
    },
    {
     "name": "stdout",
     "output_type": "stream",
     "text": [
      "lr: 0.3, max_depth: 5, train_score: 0.8094452464425654, test_score: 0.6577319587628866\n",
      "best score: 0.6742268041237114, best i: 0.05, best j: 3\n"
     ]
    },
    {
     "name": "stderr",
     "output_type": "stream",
     "text": [
      "\n"
     ]
    }
   ],
   "source": [
    "with warnings.catch_warnings():\n",
    "    # ignore all caught warnings\n",
    "    warnings.filterwarnings(\"ignore\")\n",
    "    # train random forest with hyperparameter tuning\n",
    "    xgb_best_model = None\n",
    "    xgb_best_score = 0\n",
    "    xgb_best_i = 0\n",
    "    xgb_best_j = 0\n",
    "    xgb_list_record = []\n",
    "\n",
    "\n",
    "    for i in tqdm([0.05, 0.1, 0.2, 0.3], ascii=True):\n",
    "        for j in (3, 5):\n",
    "            model = xgb.XGBClassifier(objective=\"binary:logistic\", random_state=42, verbose=1, learning_rate=i, max_depth=j)\n",
    "            model.fit(X_train, y_train)\n",
    "            train_score = model.score(X_train, y_train)\n",
    "            score = model.score(X_test, y_test)\n",
    "            xgb_list_record.append([i, j, train_score, score])\n",
    "            print(f\"lr: {i}, max_depth: {j}, train_score: {train_score}, test_score: {score}\")\n",
    "            if score > xgb_best_score:\n",
    "                xgb_best_score = score\n",
    "                xgb_best_model = model\n",
    "                xgb_best_i = i\n",
    "                xgb_best_j = j\n",
    "\n",
    "    print(f\"best score: {xgb_best_score}, best i: {xgb_best_i}, best j: {xgb_best_j}\")\n",
    "\n"
   ]
  },
  {
   "cell_type": "code",
   "execution_count": 87,
   "metadata": {},
   "outputs": [
    {
     "data": {
      "image/png": "[encoded data removed]",
      "text/plain": [
       "<Figure size 640x480 with 1 Axes>"
      ]
     },
     "metadata": {},
     "output_type": "display_data"
    }
   ],
   "source": [
    "# visualize the _list_record as figure\n",
    "i_values = [item[0] for item in xgb_list_record]\n",
    "j_values = [item[1] for item in xgb_list_record]\n",
    "train_score_values = [item[2] for item in xgb_list_record]\n",
    "score_values = [item[3] for item in xgb_list_record]\n",
    "\n",
    "fig = plt.figure()\n",
    "ax = fig.add_subplot(111, projection='3d')\n",
    "ax.scatter(i_values, j_values, score_values, c='b', marker='x')\n",
    "ax.scatter(i_values, j_values, train_score_values, c='r', marker='o')\n",
    "plt.legend([\"test\", \"train\"], loc =\"lower right\")\n",
    "\n",
    "ax.set_xlabel('i')\n",
    "ax.set_ylabel('j')\n",
    "ax.set_zlabel('score')\n",
    "plt.show()\n",
    "\n",
    "# same thing here, it get overfitted when max_depth is too high and learning rate is too high\n"
   ]
  },
  {
   "cell_type": "code",
   "execution_count": 93,
   "metadata": {},
   "outputs": [
    {
     "name": "stderr",
     "output_type": "stream",
     "text": [
      "d:\\apps\\Anaconda\\envs\\retail\\lib\\site-packages\\sklearn\\utils\\validation.py:1692: FutureWarning: Feature names only support names that are all strings. Got feature names with dtypes: ['int', 'str']. An error will be raised in 1.2.\n",
      "  FutureWarning,\n",
      "d:\\apps\\Anaconda\\envs\\retail\\lib\\site-packages\\sklearn\\utils\\validation.py:1692: FutureWarning: Feature names only support names that are all strings. Got feature names with dtypes: ['int', 'str']. An error will be raised in 1.2.\n",
      "  FutureWarning,\n",
      "d:\\apps\\Anaconda\\envs\\retail\\lib\\site-packages\\sklearn\\utils\\validation.py:1692: FutureWarning: Feature names only support names that are all strings. Got feature names with dtypes: ['int', 'str']. An error will be raised in 1.2.\n",
      "  FutureWarning,\n",
      "d:\\apps\\Anaconda\\envs\\retail\\lib\\site-packages\\sklearn\\utils\\validation.py:1692: FutureWarning: Feature names only support names that are all strings. Got feature names with dtypes: ['int', 'str']. An error will be raised in 1.2.\n",
      "  FutureWarning,\n",
      "d:\\apps\\Anaconda\\envs\\retail\\lib\\site-packages\\sklearn\\utils\\validation.py:1692: FutureWarning: Feature names only support names that are all strings. Got feature names with dtypes: ['int', 'str']. An error will be raised in 1.2.\n",
      "  FutureWarning,\n",
      "d:\\apps\\Anaconda\\envs\\retail\\lib\\site-packages\\sklearn\\utils\\validation.py:1692: FutureWarning: Feature names only support names that are all strings. Got feature names with dtypes: ['int', 'str']. An error will be raised in 1.2.\n",
      "  FutureWarning,\n",
      "d:\\apps\\Anaconda\\envs\\retail\\lib\\site-packages\\sklearn\\utils\\validation.py:1692: FutureWarning: Feature names only support names that are all strings. Got feature names with dtypes: ['int', 'str']. An error will be raised in 1.2.\n",
      "  FutureWarning,\n",
      "d:\\apps\\Anaconda\\envs\\retail\\lib\\site-packages\\sklearn\\utils\\validation.py:1692: FutureWarning: Feature names only support names that are all strings. Got feature names with dtypes: ['int', 'str']. An error will be raised in 1.2.\n",
      "  FutureWarning,\n",
      "d:\\apps\\Anaconda\\envs\\retail\\lib\\site-packages\\sklearn\\utils\\validation.py:1692: FutureWarning: Feature names only support names that are all strings. Got feature names with dtypes: ['int', 'str']. An error will be raised in 1.2.\n",
      "  FutureWarning,\n",
      "d:\\apps\\Anaconda\\envs\\retail\\lib\\site-packages\\sklearn\\utils\\validation.py:1692: FutureWarning: Feature names only support names that are all strings. Got feature names with dtypes: ['int', 'str']. An error will be raised in 1.2.\n",
      "  FutureWarning,\n",
      "d:\\apps\\Anaconda\\envs\\retail\\lib\\site-packages\\sklearn\\utils\\validation.py:1692: FutureWarning: Feature names only support names that are all strings. Got feature names with dtypes: ['int', 'str']. An error will be raised in 1.2.\n",
      "  FutureWarning,\n",
      "d:\\apps\\Anaconda\\envs\\retail\\lib\\site-packages\\sklearn\\utils\\validation.py:1692: FutureWarning: Feature names only support names that are all strings. Got feature names with dtypes: ['int', 'str']. An error will be raised in 1.2.\n",
      "  FutureWarning,\n",
      "d:\\apps\\Anaconda\\envs\\retail\\lib\\site-packages\\sklearn\\utils\\validation.py:1692: FutureWarning: Feature names only support names that are all strings. Got feature names with dtypes: ['int', 'str']. An error will be raised in 1.2.\n",
      "  FutureWarning,\n",
      "d:\\apps\\Anaconda\\envs\\retail\\lib\\site-packages\\sklearn\\utils\\validation.py:1692: FutureWarning: Feature names only support names that are all strings. Got feature names with dtypes: ['int', 'str']. An error will be raised in 1.2.\n",
      "  FutureWarning,\n",
      "d:\\apps\\Anaconda\\envs\\retail\\lib\\site-packages\\sklearn\\utils\\validation.py:1692: FutureWarning: Feature names only support names that are all strings. Got feature names with dtypes: ['int', 'str']. An error will be raised in 1.2.\n",
      "  FutureWarning,\n"
     ]
    }
   ],
   "source": [
    "# to solve the overfitting problem, we use cross validation and set min_samples_leaf=5\n",
    "def cross_validation(model, _X, _y, _cv=5):\n",
    "      _scoring = ['accuracy', 'precision', 'recall', 'f1']\n",
    "      results = cross_validate(estimator=model,\n",
    "                               X=_X,\n",
    "                               y=_y,\n",
    "                               cv=_cv,\n",
    "                               scoring=_scoring,\n",
    "                               return_train_score=True,\n",
    "                               return_estimator=True)\n",
    "      \n",
    "      return {\"Training Accuracy scores\": results['train_accuracy'],\n",
    "              \"Mean Training Accuracy\": results['train_accuracy'].mean()*100,\n",
    "              \"Training Precision scores\": results['train_precision'],\n",
    "              \"Mean Training Precision\": results['train_precision'].mean(),\n",
    "              \"Training Recall scores\": results['train_recall'],\n",
    "              \"Mean Training Recall\": results['train_recall'].mean(),\n",
    "              \"Training F1 scores\": results['train_f1'],\n",
    "              \"Mean Training F1 Score\": results['train_f1'].mean(),\n",
    "              \"Validation Accuracy scores\": results['test_accuracy'],\n",
    "              \"Mean Validation Accuracy\": results['test_accuracy'].mean()*100,\n",
    "              \"Validation Precision scores\": results['test_precision'],\n",
    "              \"Mean Validation Precision\": results['test_precision'].mean(),\n",
    "              \"Validation Recall scores\": results['test_recall'],\n",
    "              \"Mean Validation Recall\": results['test_recall'].mean(),\n",
    "              \"Validation F1 scores\": results['test_f1'],\n",
    "              \"Mean Validation F1 Score\": results['test_f1'].mean(),\n",
    "              \"estimator\": results['estimator']\n",
    "              }\n",
    "\n",
    "def plot_result(x_label, y_label, plot_title, train_data, val_data):\n",
    "        plt.figure(figsize=(12,6))\n",
    "        labels = [\"1st Fold\", \"2nd Fold\", \"3rd Fold\", \"4th Fold\", \"5th Fold\"]\n",
    "        X_axis = np.arange(len(labels))\n",
    "        ax = plt.gca()\n",
    "        plt.ylim(0.40000, 1)\n",
    "        plt.bar(X_axis-0.2, train_data, 0.4, color='blue', label='Training')\n",
    "        plt.bar(X_axis+0.2, val_data, 0.4, color='red', label='Validation')\n",
    "        plt.title(plot_title, fontsize=30)\n",
    "        plt.xticks(X_axis, labels)\n",
    "        plt.xlabel(x_label, fontsize=14)\n",
    "        plt.ylabel(y_label, fontsize=14)\n",
    "        plt.legend()\n",
    "        plt.grid(True)\n",
    "        plt.show()\n",
    "\n",
    "rf_result = cross_validation(RandomForestClassifier(n_estimators=rf_best_i, max_depth=rf_best_j, min_samples_leaf=5, random_state=1), X_train, y_train, _cv=5)"
   ]
  },
  {
   "cell_type": "code",
   "execution_count": 91,
   "metadata": {},
   "outputs": [
    {
     "data": {
      "image/png": "[encoded data removed]",
      "text/plain": [
       "<Figure size 1200x600 with 1 Axes>"
      ]
     },
     "metadata": {},
     "output_type": "display_data"
    }
   ],
   "source": [
    "model_name = \"rf\"\n",
    "plot_result(model_name,\n",
    "            \"Accuracy\",\n",
    "            \"Accuracy scores in 5 Folds\",\n",
    "            rf_result[\"Training Accuracy scores\"],\n",
    "            rf_result[\"Validation Accuracy scores\"])"
   ]
  },
  {
   "cell_type": "code",
   "execution_count": 94,
   "metadata": {},
   "outputs": [
    {
     "name": "stdout",
     "output_type": "stream",
     "text": [
      "train_score: 0.8094452464425654, test_score: 0.6577319587628866\n",
      "Training Accuracy: 0.6945088940448569, Validation Accuracy: 0.65\n",
      "Training Precision: 0.7396745932415519, Validation Precision: 0.6769964243146603\n",
      "Training Recall: 0.6058431573552024, Validation Recall: 0.5819672131147541\n",
      "Training F1: 0.6661031276415892, Validation F1: 0.6258953168044077\n",
      "==================================================\n",
      "Training Accuracy: 0.6890951276102089, Validation Accuracy: 0.6494845360824743\n",
      "Training Precision: 0.7326670830730794, Validation Precision: 0.6778846153846154\n",
      "Training Recall: 0.6012301383905689, Validation Recall: 0.5778688524590164\n",
      "Training F1: 0.660472972972973, Validation F1: 0.6238938053097346\n",
      "==================================================\n",
      "Training Accuracy: 0.6952822892498066, Validation Accuracy: 0.6536082474226804\n",
      "Training Precision: 0.7373456790123457, Validation Precision: 0.6853658536585366\n",
      "Training Recall: 0.6122501281394157, Validation Recall: 0.5758196721311475\n",
      "Training F1: 0.6690002800336041, Validation F1: 0.6258351893095769\n",
      "==================================================\n",
      "Training Accuracy: 0.6936460884134553, Validation Accuracy: 0.6446621970087674\n",
      "Training Precision: 0.724676089517079, Validation Precision: 0.6670560747663551\n",
      "Training Recall: 0.630540609787343, Validation Recall: 0.5856410256410256\n",
      "Training F1: 0.6743389505411701, Validation F1: 0.6237028945931186\n",
      "==================================================\n",
      "Training Accuracy: 0.6962237401727027, Validation Accuracy: 0.6400206291903043\n",
      "Training Precision: 0.731575793888556, Validation Precision: 0.663905325443787\n",
      "Training Recall: 0.6256725595695619, Validation Recall: 0.5753846153846154\n",
      "Training F1: 0.6744924734152742, Validation F1: 0.6164835164835165\n",
      "==================================================\n"
     ]
    }
   ],
   "source": [
    "# evaluate the model\n",
    "\n",
    "for i in range(len(result[\"Training Accuracy scores\"])):\n",
    "    print(f\"Training Accuracy: {result['Training Accuracy scores'][i]}, Validation Accuracy: {result['Validation Accuracy scores'][i]}\")\n",
    "    print(f\"Training Precision: {result['Training Precision scores'][i]}, Validation Precision: {result['Validation Precision scores'][i]}\")\n",
    "    print(f\"Training Recall: {result['Training Recall scores'][i]}, Validation Recall: {result['Validation Recall scores'][i]}\")\n",
    "    print(f\"Training F1: {result['Training F1 scores'][i]}, Validation F1: {result['Validation F1 scores'][i]}\")\n",
    "    print(\"=\"*50)\n",
    "\n"
   ]
  },
  {
   "cell_type": "code",
   "execution_count": 95,
   "metadata": {},
   "outputs": [
    {
     "name": "stdout",
     "output_type": "stream",
     "text": [
      "[14:38:07] WARNING: C:/Users/administrator/workspace/xgboost-win64_release_1.6.0/src/learner.cc:627: \n",
      "Parameters: { \"verbose\" } might not be used.\n",
      "\n",
      "  This could be a false alarm, with some parameters getting used by language bindings but\n",
      "  then being mistakenly passed down to XGBoost core, or some parameter actually being used\n",
      "  but getting flagged wrongly here. Please open an issue if you find any such cases.\n",
      "\n",
      "\n",
      "[14:38:34] WARNING: C:/Users/administrator/workspace/xgboost-win64_release_1.6.0/src/learner.cc:627: \n",
      "Parameters: { \"verbose\" } might not be used.\n",
      "\n",
      "  This could be a false alarm, with some parameters getting used by language bindings but\n",
      "  then being mistakenly passed down to XGBoost core, or some parameter actually being used\n",
      "  but getting flagged wrongly here. Please open an issue if you find any such cases.\n",
      "\n",
      "\n",
      "[14:39:00] WARNING: C:/Users/administrator/workspace/xgboost-win64_release_1.6.0/src/learner.cc:627: \n",
      "Parameters: { \"verbose\" } might not be used.\n",
      "\n",
      "  This could be a false alarm, with some parameters getting used by language bindings but\n",
      "  then being mistakenly passed down to XGBoost core, or some parameter actually being used\n",
      "  but getting flagged wrongly here. Please open an issue if you find any such cases.\n",
      "\n",
      "\n",
      "[14:39:26] WARNING: C:/Users/administrator/workspace/xgboost-win64_release_1.6.0/src/learner.cc:627: \n",
      "Parameters: { \"verbose\" } might not be used.\n",
      "\n",
      "  This could be a false alarm, with some parameters getting used by language bindings but\n",
      "  then being mistakenly passed down to XGBoost core, or some parameter actually being used\n",
      "  but getting flagged wrongly here. Please open an issue if you find any such cases.\n",
      "\n",
      "\n",
      "[14:39:50] WARNING: C:/Users/administrator/workspace/xgboost-win64_release_1.6.0/src/learner.cc:627: \n",
      "Parameters: { \"verbose\" } might not be used.\n",
      "\n",
      "  This could be a false alarm, with some parameters getting used by language bindings but\n",
      "  then being mistakenly passed down to XGBoost core, or some parameter actually being used\n",
      "  but getting flagged wrongly here. Please open an issue if you find any such cases.\n",
      "\n",
      "\n"
     ]
    }
   ],
   "source": [
    "# k-fold cross validation with xgboost\n",
    "xgb_result = cross_validation(xgb.XGBClassifier(objective=\"binary:logistic\", random_state=42, verbose=1, learning_rate=xgb_best_i, max_depth=xgb_best_j), X_train, y_train, _cv=5)"
   ]
  },
  {
   "cell_type": "code",
   "execution_count": 96,
   "metadata": {},
   "outputs": [
    {
     "data": {
      "image/png": "[encoded data removed]",
      "text/plain": [
       "<Figure size 1200x600 with 1 Axes>"
      ]
     },
     "metadata": {},
     "output_type": "display_data"
    },
    {
     "name": "stdout",
     "output_type": "stream",
     "text": [
      "Training Accuracy: 0.6945088940448569, Validation Accuracy: 0.65\n",
      "Training Precision: 0.7396745932415519, Validation Precision: 0.6769964243146603\n",
      "Training Recall: 0.6058431573552024, Validation Recall: 0.5819672131147541\n",
      "Training F1: 0.6661031276415892, Validation F1: 0.6258953168044077\n",
      "==================================================\n",
      "Training Accuracy: 0.6890951276102089, Validation Accuracy: 0.6494845360824743\n",
      "Training Precision: 0.7326670830730794, Validation Precision: 0.6778846153846154\n",
      "Training Recall: 0.6012301383905689, Validation Recall: 0.5778688524590164\n",
      "Training F1: 0.660472972972973, Validation F1: 0.6238938053097346\n",
      "==================================================\n",
      "Training Accuracy: 0.6952822892498066, Validation Accuracy: 0.6536082474226804\n",
      "Training Precision: 0.7373456790123457, Validation Precision: 0.6853658536585366\n",
      "Training Recall: 0.6122501281394157, Validation Recall: 0.5758196721311475\n",
      "Training F1: 0.6690002800336041, Validation F1: 0.6258351893095769\n",
      "==================================================\n",
      "Training Accuracy: 0.6936460884134553, Validation Accuracy: 0.6446621970087674\n",
      "Training Precision: 0.724676089517079, Validation Precision: 0.6670560747663551\n",
      "Training Recall: 0.630540609787343, Validation Recall: 0.5856410256410256\n",
      "Training F1: 0.6743389505411701, Validation F1: 0.6237028945931186\n",
      "==================================================\n",
      "Training Accuracy: 0.6962237401727027, Validation Accuracy: 0.6400206291903043\n",
      "Training Precision: 0.731575793888556, Validation Precision: 0.663905325443787\n",
      "Training Recall: 0.6256725595695619, Validation Recall: 0.5753846153846154\n",
      "Training F1: 0.6744924734152742, Validation F1: 0.6164835164835165\n",
      "==================================================\n"
     ]
    }
   ],
   "source": [
    "# plot the result\n",
    "model_name = \"xgb\"\n",
    "plot_result(model_name,\n",
    "            \"Accuracy\",\n",
    "            \"Accuracy scores in 5 Folds\",\n",
    "            xgb_result[\"Training Accuracy scores\"],\n",
    "            xgb_result[\"Validation Accuracy scores\"])\n",
    "\n",
    "for i in range(len(xgb_result[\"Training Accuracy scores\"])):\n",
    "    print(f\"Training Accuracy: {xgb_result['Training Accuracy scores'][i]}, Validation Accuracy: {xgb_result['Validation Accuracy scores'][i]}\")\n",
    "    print(f\"Training Precision: {xgb_result['Training Precision scores'][i]}, Validation Precision: {xgb_result['Validation Precision scores'][i]}\")\n",
    "    print(f\"Training Recall: {xgb_result['Training Recall scores'][i]}, Validation Recall: {xgb_result['Validation Recall scores'][i]}\")\n",
    "    print(f\"Training F1: {xgb_result['Training F1 scores'][i]}, Validation F1: {xgb_result['Validation F1 scores'][i]}\")\n",
    "    print(\"=\"*50)\n"
   ]
  },
  {
   "cell_type": "code",
   "execution_count": 97,
   "metadata": {},
   "outputs": [],
   "source": [
    "# It is obvious that the xgboost model is better than the random forest model, so we choose the xgboost model trained with fold 3 (best one) as our final model\n",
    "pickle.dump(xgb_result[\"estimator\"][2], open(model_path, 'wb'))"
   ]
  }
 ],
 "metadata": {
  "kernelspec": {
   "display_name": "Python 3",
   "language": "python",
   "name": "python3"
  },
  "language_info": {
   "codemirror_mode": {
    "name": "ipython",
    "version": 3
   },
   "file_extension": ".py",
   "mimetype": "text/x-python",
   "name": "python",
   "nbconvert_exporter": "python",
   "pygments_lexer": "ipython3",
   "version": "3.7.16"
  },
  "orig_nbformat": 4
 },
 "nbformat": 4,
 "nbformat_minor": 2
}
